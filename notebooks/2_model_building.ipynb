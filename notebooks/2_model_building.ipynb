{
 "cells": [
  {
   "cell_type": "code",
   "execution_count": 15,
   "metadata": {},
   "outputs": [
    {
     "name": "stdout",
     "output_type": "stream",
     "text": [
      "Expanded dataset loaded successfully!\n"
     ]
    },
    {
     "data": {
      "text/html": [
       "<div>\n",
       "<style scoped>\n",
       "    .dataframe tbody tr th:only-of-type {\n",
       "        vertical-align: middle;\n",
       "    }\n",
       "\n",
       "    .dataframe tbody tr th {\n",
       "        vertical-align: top;\n",
       "    }\n",
       "\n",
       "    .dataframe thead th {\n",
       "        text-align: right;\n",
       "    }\n",
       "</style>\n",
       "<table border=\"1\" class=\"dataframe\">\n",
       "  <thead>\n",
       "    <tr style=\"text-align: right;\">\n",
       "      <th></th>\n",
       "      <th>appid</th>\n",
       "      <th>name</th>\n",
       "      <th>Reviews</th>\n",
       "    </tr>\n",
       "  </thead>\n",
       "  <tbody>\n",
       "    <tr>\n",
       "      <th>0</th>\n",
       "      <td>479061</td>\n",
       "      <td>WildStar: Cute &amp; Cuddly Pack</td>\n",
       "      <td>DO NOT BUY!\\n\\nBought this pack and only got o...</td>\n",
       "    </tr>\n",
       "    <tr>\n",
       "      <th>1</th>\n",
       "      <td>1804514</td>\n",
       "      <td>Train Simulator: Salzburg - Rosenheim Route Ad...</td>\n",
       "      <td>Ich finde die Strecke gut, eine schöne Erweite...</td>\n",
       "    </tr>\n",
       "    <tr>\n",
       "      <th>2</th>\n",
       "      <td>3277140</td>\n",
       "      <td>Pirates Never Die</td>\n",
       "      <td>This is the only game that I have ever asked S...</td>\n",
       "    </tr>\n",
       "    <tr>\n",
       "      <th>3</th>\n",
       "      <td>425970</td>\n",
       "      <td>Come On Down</td>\n",
       "      <td>Come on Down is a stereotypical movie that cre...</td>\n",
       "    </tr>\n",
       "    <tr>\n",
       "      <th>4</th>\n",
       "      <td>2258610</td>\n",
       "      <td>Monster Knockout Idle DLC</td>\n",
       "      <td>2/10 ok??? why is this part of an angry birds ...</td>\n",
       "    </tr>\n",
       "  </tbody>\n",
       "</table>\n",
       "</div>"
      ],
      "text/plain": [
       "     appid                                               name  \\\n",
       "0   479061                       WildStar: Cute & Cuddly Pack   \n",
       "1  1804514  Train Simulator: Salzburg - Rosenheim Route Ad...   \n",
       "2  3277140                                  Pirates Never Die   \n",
       "3   425970                                       Come On Down   \n",
       "4  2258610                          Monster Knockout Idle DLC   \n",
       "\n",
       "                                             Reviews  \n",
       "0  DO NOT BUY!\\n\\nBought this pack and only got o...  \n",
       "1  Ich finde die Strecke gut, eine schöne Erweite...  \n",
       "2  This is the only game that I have ever asked S...  \n",
       "3  Come on Down is a stereotypical movie that cre...  \n",
       "4  2/10 ok??? why is this part of an angry birds ...  "
      ]
     },
     "metadata": {},
     "output_type": "display_data"
    }
   ],
   "source": [
    "# Cell 1: Load the expanded dataset in Notebook 2\n",
    "import pandas as pd\n",
    "\n",
    "# Load the full dataset with reviews\n",
    "df_selected = pd.read_csv(\"all_steam_games_with_reviews.csv\")\n",
    "\n",
    "print(\"Expanded dataset loaded successfully!\")\n",
    "display(df_selected.head())\n"
   ]
  },
  {
   "cell_type": "code",
   "execution_count": 16,
   "metadata": {},
   "outputs": [
    {
     "name": "stdout",
     "output_type": "stream",
     "text": [
      "Model Notebook Initialized!\n"
     ]
    }
   ],
   "source": [
    "# Cell 2: Set up the environment and import model functions\n",
    "import sys, os\n",
    "sys.path.append(r'C:\\Users\\shail\\OneDrive\\Desktop\\game-recommendation-engine\\src')\n",
    "\n",
    "from model import create_tfidf_matrix, get_similar_games\n",
    "\n",
    "print(\"Model Notebook Initialized!\")\n"
   ]
  },
  {
   "cell_type": "code",
   "execution_count": 17,
   "metadata": {},
   "outputs": [
    {
     "name": "stdout",
     "output_type": "stream",
     "text": [
      "TF-IDF matrix created with shape: (582, 87377)\n"
     ]
    }
   ],
   "source": [
    "# Cell 3: Create a TF-IDF matrix using the 'Reviews' column\n",
    "\n",
    "# Specify the text column to use\n",
    "text_column = 'Reviews'\n",
    "\n",
    "# Create the TF-IDF matrix using our function from model.py\n",
    "tfidf_matrix, vectorizer = create_tfidf_matrix(df_selected, text_column)\n",
    "\n",
    "print(\"TF-IDF matrix created with shape:\", tfidf_matrix.shape)\n"
   ]
  },
  {
   "cell_type": "code",
   "execution_count": 18,
   "metadata": {},
   "outputs": [
    {
     "name": "stdout",
     "output_type": "stream",
     "text": [
      "Recommended game indices: [542 133 379  45  89]\n",
      "Recommended Games (based on reviews):\n"
     ]
    },
    {
     "data": {
      "text/html": [
       "<div>\n",
       "<style scoped>\n",
       "    .dataframe tbody tr th:only-of-type {\n",
       "        vertical-align: middle;\n",
       "    }\n",
       "\n",
       "    .dataframe tbody tr th {\n",
       "        vertical-align: top;\n",
       "    }\n",
       "\n",
       "    .dataframe thead th {\n",
       "        text-align: right;\n",
       "    }\n",
       "</style>\n",
       "<table border=\"1\" class=\"dataframe\">\n",
       "  <thead>\n",
       "    <tr style=\"text-align: right;\">\n",
       "      <th></th>\n",
       "      <th>appid</th>\n",
       "      <th>name</th>\n",
       "      <th>Reviews</th>\n",
       "    </tr>\n",
       "  </thead>\n",
       "  <tbody>\n",
       "    <tr>\n",
       "      <th>542</th>\n",
       "      <td>650610</td>\n",
       "      <td>Gigantic - Starter Pack</td>\n",
       "      <td>제가 스타터팩을 구입했는데 리셋이 되어있네요 빠른 복구 부탁드립니다. Didn't ...</td>\n",
       "    </tr>\n",
       "    <tr>\n",
       "      <th>133</th>\n",
       "      <td>412950</td>\n",
       "      <td>Heroes and Titans: Online DLC Pack 3</td>\n",
       "      <td>Hmm Good Pack but no vip Points</td>\n",
       "    </tr>\n",
       "    <tr>\n",
       "      <th>379</th>\n",
       "      <td>2633870</td>\n",
       "      <td>KovaaK's Anime Pack</td>\n",
       "      <td>вроде норм только даже не знаю что это просто ...</td>\n",
       "    </tr>\n",
       "    <tr>\n",
       "      <th>45</th>\n",
       "      <td>24036</td>\n",
       "      <td>Train Simulator: HST Buffer Loco Add-On</td>\n",
       "      <td>WOW Very good addon suggest you buy the WCML N...</td>\n",
       "    </tr>\n",
       "    <tr>\n",
       "      <th>89</th>\n",
       "      <td>1336850</td>\n",
       "      <td>Project Genesis - Founder's Pack</td>\n",
       "      <td>Battle Craft skin looks amazing although it is...</td>\n",
       "    </tr>\n",
       "  </tbody>\n",
       "</table>\n",
       "</div>"
      ],
      "text/plain": [
       "       appid                                     name  \\\n",
       "542   650610                  Gigantic - Starter Pack   \n",
       "133   412950     Heroes and Titans: Online DLC Pack 3   \n",
       "379  2633870                      KovaaK's Anime Pack   \n",
       "45     24036  Train Simulator: HST Buffer Loco Add-On   \n",
       "89   1336850         Project Genesis - Founder's Pack   \n",
       "\n",
       "                                               Reviews  \n",
       "542  제가 스타터팩을 구입했는데 리셋이 되어있네요 빠른 복구 부탁드립니다. Didn't ...  \n",
       "133                    Hmm Good Pack but no vip Points  \n",
       "379  вроде норм только даже не знаю что это просто ...  \n",
       "45   WOW Very good addon suggest you buy the WCML N...  \n",
       "89   Battle Craft skin looks amazing although it is...  "
      ]
     },
     "metadata": {},
     "output_type": "display_data"
    }
   ],
   "source": [
    "# Cell 4: Generate recommendations for a selected game based on reviews\n",
    "\n",
    "# Define the target game index (for example, 0 for the first game)\n",
    "target_index = 0  # You can change this to test different games\n",
    "\n",
    "# Get indices of the top 5 most similar games using cosine similarity\n",
    "recommended_indices = get_similar_games(tfidf_matrix, target_index, top_n=5)\n",
    "\n",
    "print(\"Recommended game indices:\", recommended_indices)\n",
    "\n",
    "# Display the recommended games from df_selected\n",
    "print(\"Recommended Games (based on reviews):\")\n",
    "display(df_selected.iloc[recommended_indices])\n"
   ]
  }
 ],
 "metadata": {
  "kernelspec": {
   "display_name": ".venv",
   "language": "python",
   "name": "python3"
  },
  "language_info": {
   "codemirror_mode": {
    "name": "ipython",
    "version": 3
   },
   "file_extension": ".py",
   "mimetype": "text/x-python",
   "name": "python",
   "nbconvert_exporter": "python",
   "pygments_lexer": "ipython3",
   "version": "3.13.2"
  }
 },
 "nbformat": 4,
 "nbformat_minor": 2
}
